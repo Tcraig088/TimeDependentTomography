{
 "cells": [
  {
   "cell_type": "code",
   "execution_count": 11,
   "metadata": {},
   "outputs": [],
   "source": [
    "import tomobase.phantoms\n",
    "from tomobase.plots.tiltscheme import  acquisition_radial_plot\n",
    "from tomobase.tiltschemes import GRS, Binary, Incremental\n",
    "from tomobase.data import Sinogram\n",
    "#from scripts import helper\n",
    "import numpy as np\n",
    "import plotly.io as pio\n",
    "import tomobase\n",
    "\n",
    "grs = GRS(64, -64, 0)\n",
    "binary = Binary(64, -64, 8)\n",
    "\n",
    "\n",
    "incremental1 = Incremental(-60,60, 2)\n",
    "angles_inc = np.array([incremental1.get_angle() for i in range(61)])\n",
    "vol = tomobase.phantoms.nanocage()\n",
    "sino = tomobase.processes.project(vol, angles_inc)\n",
    "rec = tomobase.processes.reconstruct(sino, 'sirt', iterations=100)\n",
    "sino.to_file('missing_wedge3.rec')\n",
    "\n",
    "#fig = acquisition_radial_plot(angles=angles_inc)\n",
    "#fig = acquisition_radial_plot(angles=angles_bin, start = 0, frame = 64)\n",
    "#pio.write_image(fig, 'missing wedge.png')\n"
   ]
  },
  {
   "cell_type": "code",
   "execution_count": null,
   "metadata": {},
   "outputs": [],
   "source": []
  }
 ],
 "metadata": {
  "kernelspec": {
   "display_name": "total-env",
   "language": "python",
   "name": "python3"
  },
  "language_info": {
   "codemirror_mode": {
    "name": "ipython",
    "version": 3
   },
   "file_extension": ".py",
   "mimetype": "text/x-python",
   "name": "python",
   "nbconvert_exporter": "python",
   "pygments_lexer": "ipython3",
   "version": "3.11.11"
  }
 },
 "nbformat": 4,
 "nbformat_minor": 2
}
