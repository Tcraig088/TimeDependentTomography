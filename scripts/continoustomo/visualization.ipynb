{
 "cells": [
  {
   "cell_type": "code",
   "execution_count": 1,
   "metadata": {},
   "outputs": [
    {
     "name": "stderr",
     "output_type": "stream",
     "text": [
      "2024-10-07 18:09:44,634 - DEBUG - This is a debug message\n"
     ]
    },
    {
     "name": "stdout",
     "output_type": "stream",
     "text": [
      "Loading D:\\Code\\Python\\Github\\TimeDependentTomography\\scripts\\../data\\TiltGRS.mat\n"
     ]
    },
    {
     "data": {
      "application/vnd.plotly.v1+json": {
       "config": {
        "plotlyServerURL": "https://plot.ly"
       },
       "data": [
        {
         "line": {
          "color": "black"
         },
         "mode": "lines",
         "r": [
          0,
          1
         ],
         "theta": [
          0,
          -70
         ],
         "type": "scatterpolar"
        },
        {
         "line": {
          "color": "black"
         },
         "mode": "lines",
         "r": [
          0,
          1
         ],
         "theta": [
          0,
          16.52
         ],
         "type": "scatterpolar"
        },
        {
         "line": {
          "color": "black"
         },
         "mode": "lines",
         "r": [
          0,
          1
         ],
         "theta": [
          0,
          -36.95
         ],
         "type": "scatterpolar"
        },
        {
         "line": {
          "color": "black"
         },
         "mode": "lines",
         "r": [
          0,
          1
         ],
         "theta": [
          0,
          49.57
         ],
         "type": "scatterpolar"
        },
        {
         "line": {
          "color": "black"
         },
         "mode": "lines",
         "r": [
          0,
          1
         ],
         "theta": [
          0,
          -3.9
         ],
         "type": "scatterpolar"
        },
        {
         "line": {
          "color": "black"
         },
         "mode": "lines",
         "r": [
          0,
          1
         ],
         "theta": [
          0,
          -57.38
         ],
         "type": "scatterpolar"
        },
        {
         "line": {
          "color": "black"
         },
         "mode": "lines",
         "r": [
          0,
          1
         ],
         "theta": [
          0,
          29.15
         ],
         "type": "scatterpolar"
        },
        {
         "line": {
          "color": "black"
         },
         "mode": "lines",
         "r": [
          0,
          1
         ],
         "theta": [
          0,
          -24.33
         ],
         "type": "scatterpolar"
        },
        {
         "line": {
          "color": "black"
         },
         "mode": "lines",
         "r": [
          0,
          1
         ],
         "theta": [
          0,
          62.2
         ],
         "type": "scatterpolar"
        },
        {
         "line": {
          "color": "black"
         },
         "mode": "lines",
         "r": [
          0,
          1
         ],
         "theta": [
          0,
          8.72
         ],
         "type": "scatterpolar"
        },
        {
         "line": {
          "color": "black"
         },
         "mode": "lines",
         "r": [
          0,
          1
         ],
         "theta": [
          0,
          -44.75
         ],
         "type": "scatterpolar"
        },
        {
         "line": {
          "color": "black"
         },
         "mode": "lines",
         "r": [
          0,
          1
         ],
         "theta": [
          0,
          41.77
         ],
         "type": "scatterpolar"
        },
        {
         "line": {
          "color": "black"
         },
         "mode": "lines",
         "r": [
          0,
          1
         ],
         "theta": [
          0,
          -11.7
         ],
         "type": "scatterpolar"
        },
        {
         "line": {
          "color": "black"
         },
         "mode": "lines",
         "r": [
          0,
          1
         ],
         "theta": [
          0,
          -65.18
         ],
         "type": "scatterpolar"
        },
        {
         "line": {
          "color": "black"
         },
         "mode": "lines",
         "r": [
          0,
          1
         ],
         "theta": [
          0,
          21.35
         ],
         "type": "scatterpolar"
        },
        {
         "line": {
          "color": "black"
         },
         "mode": "lines",
         "r": [
          0,
          1
         ],
         "theta": [
          0,
          -32.13
         ],
         "type": "scatterpolar"
        },
        {
         "line": {
          "color": "black"
         },
         "mode": "lines",
         "r": [
          0,
          1
         ],
         "theta": [
          0,
          54.4
         ],
         "type": "scatterpolar"
        },
        {
         "line": {
          "color": "black"
         },
         "mode": "lines",
         "r": [
          0,
          1
         ],
         "theta": [
          0,
          0.92
         ],
         "type": "scatterpolar"
        },
        {
         "line": {
          "color": "black"
         },
         "mode": "lines",
         "r": [
          0,
          1
         ],
         "theta": [
          0,
          -52.55
         ],
         "type": "scatterpolar"
        },
        {
         "line": {
          "color": "black"
         },
         "mode": "lines",
         "r": [
          0,
          1
         ],
         "theta": [
          0,
          33.97
         ],
         "type": "scatterpolar"
        },
        {
         "line": {
          "color": "black"
         },
         "mode": "lines",
         "r": [
          0,
          1
         ],
         "theta": [
          0,
          -19.5
         ],
         "type": "scatterpolar"
        },
        {
         "line": {
          "color": "black"
         },
         "mode": "lines",
         "r": [
          0,
          1
         ],
         "theta": [
          0,
          67.02
         ],
         "type": "scatterpolar"
        },
        {
         "line": {
          "color": "black"
         },
         "mode": "lines",
         "r": [
          0,
          1
         ],
         "theta": [
          0,
          13.54
         ],
         "type": "scatterpolar"
        },
        {
         "line": {
          "color": "black"
         },
         "mode": "lines",
         "r": [
          0,
          1
         ],
         "theta": [
          0,
          -39.93
         ],
         "type": "scatterpolar"
        },
        {
         "line": {
          "color": "black"
         },
         "mode": "lines",
         "r": [
          0,
          1
         ],
         "theta": [
          0,
          46.59
         ],
         "type": "scatterpolar"
        },
        {
         "line": {
          "color": "black"
         },
         "mode": "lines",
         "r": [
          0,
          1
         ],
         "theta": [
          0,
          -6.88
         ],
         "type": "scatterpolar"
        },
        {
         "line": {
          "color": "black"
         },
         "mode": "lines",
         "r": [
          0,
          1
         ],
         "theta": [
          0,
          -60.36
         ],
         "type": "scatterpolar"
        },
        {
         "line": {
          "color": "black"
         },
         "mode": "lines",
         "r": [
          0,
          1
         ],
         "theta": [
          0,
          26.17
         ],
         "type": "scatterpolar"
        },
        {
         "line": {
          "color": "black"
         },
         "mode": "lines",
         "r": [
          0,
          1
         ],
         "theta": [
          0,
          -27.31
         ],
         "type": "scatterpolar"
        },
        {
         "line": {
          "color": "black"
         },
         "mode": "lines",
         "r": [
          0,
          1
         ],
         "theta": [
          0,
          59.22
         ],
         "type": "scatterpolar"
        },
        {
         "line": {
          "color": "black"
         },
         "mode": "lines",
         "r": [
          0,
          1
         ],
         "theta": [
          0,
          5.74
         ],
         "type": "scatterpolar"
        },
        {
         "line": {
          "color": "black"
         },
         "mode": "lines",
         "r": [
          0,
          1
         ],
         "theta": [
          0,
          -47.73
         ],
         "type": "scatterpolar"
        },
        {
         "line": {
          "color": "black"
         },
         "mode": "lines",
         "r": [
          0,
          1
         ],
         "theta": [
          0,
          38.79
         ],
         "type": "scatterpolar"
        },
        {
         "line": {
          "color": "black"
         },
         "mode": "lines",
         "r": [
          0,
          1
         ],
         "theta": [
          0,
          -14.68
         ],
         "type": "scatterpolar"
        },
        {
         "line": {
          "color": "black"
         },
         "mode": "lines",
         "r": [
          0,
          1
         ],
         "theta": [
          0,
          -68.16
         ],
         "type": "scatterpolar"
        },
        {
         "line": {
          "color": "black"
         },
         "mode": "lines",
         "r": [
          0,
          1
         ],
         "theta": [
          0,
          18.37
         ],
         "type": "scatterpolar"
        },
        {
         "line": {
          "color": "black"
         },
         "mode": "lines",
         "r": [
          0,
          1
         ],
         "theta": [
          0,
          -35.11
         ],
         "type": "scatterpolar"
        },
        {
         "line": {
          "color": "black"
         },
         "mode": "lines",
         "r": [
          0,
          1
         ],
         "theta": [
          0,
          51.42
         ],
         "type": "scatterpolar"
        },
        {
         "line": {
          "color": "black"
         },
         "mode": "lines",
         "r": [
          0,
          1
         ],
         "theta": [
          0,
          -2.06
         ],
         "type": "scatterpolar"
        },
        {
         "line": {
          "color": "black"
         },
         "mode": "lines",
         "r": [
          0,
          1
         ],
         "theta": [
          0,
          -55.53
         ],
         "type": "scatterpolar"
        },
        {
         "line": {
          "color": "black"
         },
         "mode": "lines",
         "r": [
          0,
          1
         ],
         "theta": [
          0,
          30.99
         ],
         "type": "scatterpolar"
        },
        {
         "line": {
          "color": "black"
         },
         "mode": "lines",
         "r": [
          0,
          1
         ],
         "theta": [
          0,
          -22.48
         ],
         "type": "scatterpolar"
        },
        {
         "line": {
          "color": "black"
         },
         "mode": "lines",
         "r": [
          0,
          1
         ],
         "theta": [
          0,
          64.04
         ],
         "type": "scatterpolar"
        },
        {
         "line": {
          "color": "black"
         },
         "mode": "lines",
         "r": [
          0,
          1
         ],
         "theta": [
          0,
          10.56
         ],
         "type": "scatterpolar"
        },
        {
         "line": {
          "color": "black"
         },
         "mode": "lines",
         "r": [
          0,
          1
         ],
         "theta": [
          0,
          -42.91
         ],
         "type": "scatterpolar"
        },
        {
         "line": {
          "color": "black"
         },
         "mode": "lines",
         "r": [
          0,
          1
         ],
         "theta": [
          0,
          43.61
         ],
         "type": "scatterpolar"
        },
        {
         "line": {
          "color": "black"
         },
         "mode": "lines",
         "r": [
          0,
          1
         ],
         "theta": [
          0,
          -9.86
         ],
         "type": "scatterpolar"
        },
        {
         "line": {
          "color": "black"
         },
         "mode": "lines",
         "r": [
          0,
          1
         ],
         "theta": [
          0,
          -63.34
         ],
         "type": "scatterpolar"
        },
        {
         "line": {
          "color": "black"
         },
         "mode": "lines",
         "r": [
          0,
          1
         ],
         "theta": [
          0,
          23.19
         ],
         "type": "scatterpolar"
        },
        {
         "line": {
          "color": "black"
         },
         "mode": "lines",
         "r": [
          0,
          1
         ],
         "theta": [
          0,
          -30.29
         ],
         "type": "scatterpolar"
        },
        {
         "line": {
          "color": "black"
         },
         "mode": "lines",
         "r": [
          0,
          1
         ],
         "theta": [
          0,
          56.24
         ],
         "type": "scatterpolar"
        },
        {
         "line": {
          "color": "black"
         },
         "mode": "lines",
         "r": [
          0,
          1
         ],
         "theta": [
          0,
          2.76
         ],
         "type": "scatterpolar"
        },
        {
         "line": {
          "color": "black"
         },
         "mode": "lines",
         "r": [
          0,
          1
         ],
         "theta": [
          0,
          -50.71
         ],
         "type": "scatterpolar"
        },
        {
         "line": {
          "color": "black"
         },
         "mode": "lines",
         "r": [
          0,
          1
         ],
         "theta": [
          0,
          35.81
         ],
         "type": "scatterpolar"
        },
        {
         "line": {
          "color": "black"
         },
         "mode": "lines",
         "r": [
          0,
          1
         ],
         "theta": [
          0,
          -17.66
         ],
         "type": "scatterpolar"
        },
        {
         "line": {
          "color": "black"
         },
         "mode": "lines",
         "r": [
          0,
          1
         ],
         "theta": [
          0,
          68.86
         ],
         "type": "scatterpolar"
        },
        {
         "line": {
          "color": "black"
         },
         "mode": "lines",
         "r": [
          0,
          1
         ],
         "theta": [
          0,
          15.39
         ],
         "type": "scatterpolar"
        },
        {
         "line": {
          "color": "black"
         },
         "mode": "lines",
         "r": [
          0,
          1
         ],
         "theta": [
          0,
          -38.09
         ],
         "type": "scatterpolar"
        },
        {
         "line": {
          "color": "black"
         },
         "mode": "lines",
         "r": [
          0,
          1
         ],
         "theta": [
          0,
          48.44
         ],
         "type": "scatterpolar"
        },
        {
         "line": {
          "color": "black"
         },
         "mode": "lines",
         "r": [
          0,
          1
         ],
         "theta": [
          0,
          -5.04
         ],
         "type": "scatterpolar"
        },
        {
         "line": {
          "color": "black"
         },
         "mode": "lines",
         "r": [
          0,
          1
         ],
         "theta": [
          0,
          -58.51
         ],
         "type": "scatterpolar"
        },
        {
         "line": {
          "color": "black"
         },
         "mode": "lines",
         "r": [
          0,
          1
         ],
         "theta": [
          0,
          28.01
         ],
         "type": "scatterpolar"
        },
        {
         "line": {
          "color": "black"
         },
         "mode": "lines",
         "r": [
          0,
          1
         ],
         "theta": [
          0,
          -25.46
         ],
         "type": "scatterpolar"
        },
        {
         "line": {
          "color": "black"
         },
         "mode": "lines",
         "r": [
          0,
          1
         ],
         "theta": [
          0,
          61.06
         ],
         "type": "scatterpolar"
        },
        {
         "line": {
          "color": "black"
         },
         "mode": "lines",
         "r": [
          0,
          1
         ],
         "theta": [
          0,
          7.58
         ],
         "type": "scatterpolar"
        },
        {
         "line": {
          "color": "black"
         },
         "mode": "lines",
         "r": [
          0,
          1
         ],
         "theta": [
          0,
          -45.89
         ],
         "type": "scatterpolar"
        },
        {
         "line": {
          "color": "black"
         },
         "mode": "lines",
         "r": [
          0,
          1
         ],
         "theta": [
          0,
          40.63
         ],
         "type": "scatterpolar"
        },
        {
         "line": {
          "color": "black"
         },
         "mode": "lines",
         "r": [
          0,
          1
         ],
         "theta": [
          0,
          -12.84
         ],
         "type": "scatterpolar"
        },
        {
         "line": {
          "color": "black"
         },
         "mode": "lines",
         "r": [
          0,
          1
         ],
         "theta": [
          0,
          -66.32
         ],
         "type": "scatterpolar"
        },
        {
         "line": {
          "color": "black"
         },
         "mode": "lines",
         "r": [
          0,
          1
         ],
         "theta": [
          0,
          20.21
         ],
         "type": "scatterpolar"
        },
        {
         "line": {
          "color": "black"
         },
         "mode": "lines",
         "r": [
          0,
          1
         ],
         "theta": [
          0,
          -33.27
         ],
         "type": "scatterpolar"
        }
       ],
       "layout": {
        "autosize": false,
        "height": 600,
        "paper_bgcolor": "white",
        "plot_bgcolor": "white",
        "polar": {
         "angularaxis": {
          "dtick": 30,
          "linecolor": "black",
          "linewidth": 2,
          "rotation": 90,
          "showline": true,
          "thetaunit": "degrees",
          "tickcolor": "black",
          "ticklen": 5,
          "ticks": "outside",
          "tickwidth": 2
         },
         "radialaxis": {
          "range": [
           0,
           1
          ],
          "showline": false,
          "visible": false
         },
         "sector": [
          0,
          180
         ]
        },
        "template": {
         "data": {
          "bar": [
           {
            "error_x": {
             "color": "#2a3f5f"
            },
            "error_y": {
             "color": "#2a3f5f"
            },
            "marker": {
             "line": {
              "color": "#E5ECF6",
              "width": 0.5
             },
             "pattern": {
              "fillmode": "overlay",
              "size": 10,
              "solidity": 0.2
             }
            },
            "type": "bar"
           }
          ],
          "barpolar": [
           {
            "marker": {
             "line": {
              "color": "#E5ECF6",
              "width": 0.5
             },
             "pattern": {
              "fillmode": "overlay",
              "size": 10,
              "solidity": 0.2
             }
            },
            "type": "barpolar"
           }
          ],
          "carpet": [
           {
            "aaxis": {
             "endlinecolor": "#2a3f5f",
             "gridcolor": "white",
             "linecolor": "white",
             "minorgridcolor": "white",
             "startlinecolor": "#2a3f5f"
            },
            "baxis": {
             "endlinecolor": "#2a3f5f",
             "gridcolor": "white",
             "linecolor": "white",
             "minorgridcolor": "white",
             "startlinecolor": "#2a3f5f"
            },
            "type": "carpet"
           }
          ],
          "choropleth": [
           {
            "colorbar": {
             "outlinewidth": 0,
             "ticks": ""
            },
            "type": "choropleth"
           }
          ],
          "contour": [
           {
            "colorbar": {
             "outlinewidth": 0,
             "ticks": ""
            },
            "colorscale": [
             [
              0,
              "#0d0887"
             ],
             [
              0.1111111111111111,
              "#46039f"
             ],
             [
              0.2222222222222222,
              "#7201a8"
             ],
             [
              0.3333333333333333,
              "#9c179e"
             ],
             [
              0.4444444444444444,
              "#bd3786"
             ],
             [
              0.5555555555555556,
              "#d8576b"
             ],
             [
              0.6666666666666666,
              "#ed7953"
             ],
             [
              0.7777777777777778,
              "#fb9f3a"
             ],
             [
              0.8888888888888888,
              "#fdca26"
             ],
             [
              1,
              "#f0f921"
             ]
            ],
            "type": "contour"
           }
          ],
          "contourcarpet": [
           {
            "colorbar": {
             "outlinewidth": 0,
             "ticks": ""
            },
            "type": "contourcarpet"
           }
          ],
          "heatmap": [
           {
            "colorbar": {
             "outlinewidth": 0,
             "ticks": ""
            },
            "colorscale": [
             [
              0,
              "#0d0887"
             ],
             [
              0.1111111111111111,
              "#46039f"
             ],
             [
              0.2222222222222222,
              "#7201a8"
             ],
             [
              0.3333333333333333,
              "#9c179e"
             ],
             [
              0.4444444444444444,
              "#bd3786"
             ],
             [
              0.5555555555555556,
              "#d8576b"
             ],
             [
              0.6666666666666666,
              "#ed7953"
             ],
             [
              0.7777777777777778,
              "#fb9f3a"
             ],
             [
              0.8888888888888888,
              "#fdca26"
             ],
             [
              1,
              "#f0f921"
             ]
            ],
            "type": "heatmap"
           }
          ],
          "heatmapgl": [
           {
            "colorbar": {
             "outlinewidth": 0,
             "ticks": ""
            },
            "colorscale": [
             [
              0,
              "#0d0887"
             ],
             [
              0.1111111111111111,
              "#46039f"
             ],
             [
              0.2222222222222222,
              "#7201a8"
             ],
             [
              0.3333333333333333,
              "#9c179e"
             ],
             [
              0.4444444444444444,
              "#bd3786"
             ],
             [
              0.5555555555555556,
              "#d8576b"
             ],
             [
              0.6666666666666666,
              "#ed7953"
             ],
             [
              0.7777777777777778,
              "#fb9f3a"
             ],
             [
              0.8888888888888888,
              "#fdca26"
             ],
             [
              1,
              "#f0f921"
             ]
            ],
            "type": "heatmapgl"
           }
          ],
          "histogram": [
           {
            "marker": {
             "pattern": {
              "fillmode": "overlay",
              "size": 10,
              "solidity": 0.2
             }
            },
            "type": "histogram"
           }
          ],
          "histogram2d": [
           {
            "colorbar": {
             "outlinewidth": 0,
             "ticks": ""
            },
            "colorscale": [
             [
              0,
              "#0d0887"
             ],
             [
              0.1111111111111111,
              "#46039f"
             ],
             [
              0.2222222222222222,
              "#7201a8"
             ],
             [
              0.3333333333333333,
              "#9c179e"
             ],
             [
              0.4444444444444444,
              "#bd3786"
             ],
             [
              0.5555555555555556,
              "#d8576b"
             ],
             [
              0.6666666666666666,
              "#ed7953"
             ],
             [
              0.7777777777777778,
              "#fb9f3a"
             ],
             [
              0.8888888888888888,
              "#fdca26"
             ],
             [
              1,
              "#f0f921"
             ]
            ],
            "type": "histogram2d"
           }
          ],
          "histogram2dcontour": [
           {
            "colorbar": {
             "outlinewidth": 0,
             "ticks": ""
            },
            "colorscale": [
             [
              0,
              "#0d0887"
             ],
             [
              0.1111111111111111,
              "#46039f"
             ],
             [
              0.2222222222222222,
              "#7201a8"
             ],
             [
              0.3333333333333333,
              "#9c179e"
             ],
             [
              0.4444444444444444,
              "#bd3786"
             ],
             [
              0.5555555555555556,
              "#d8576b"
             ],
             [
              0.6666666666666666,
              "#ed7953"
             ],
             [
              0.7777777777777778,
              "#fb9f3a"
             ],
             [
              0.8888888888888888,
              "#fdca26"
             ],
             [
              1,
              "#f0f921"
             ]
            ],
            "type": "histogram2dcontour"
           }
          ],
          "mesh3d": [
           {
            "colorbar": {
             "outlinewidth": 0,
             "ticks": ""
            },
            "type": "mesh3d"
           }
          ],
          "parcoords": [
           {
            "line": {
             "colorbar": {
              "outlinewidth": 0,
              "ticks": ""
             }
            },
            "type": "parcoords"
           }
          ],
          "pie": [
           {
            "automargin": true,
            "type": "pie"
           }
          ],
          "scatter": [
           {
            "fillpattern": {
             "fillmode": "overlay",
             "size": 10,
             "solidity": 0.2
            },
            "type": "scatter"
           }
          ],
          "scatter3d": [
           {
            "line": {
             "colorbar": {
              "outlinewidth": 0,
              "ticks": ""
             }
            },
            "marker": {
             "colorbar": {
              "outlinewidth": 0,
              "ticks": ""
             }
            },
            "type": "scatter3d"
           }
          ],
          "scattercarpet": [
           {
            "marker": {
             "colorbar": {
              "outlinewidth": 0,
              "ticks": ""
             }
            },
            "type": "scattercarpet"
           }
          ],
          "scattergeo": [
           {
            "marker": {
             "colorbar": {
              "outlinewidth": 0,
              "ticks": ""
             }
            },
            "type": "scattergeo"
           }
          ],
          "scattergl": [
           {
            "marker": {
             "colorbar": {
              "outlinewidth": 0,
              "ticks": ""
             }
            },
            "type": "scattergl"
           }
          ],
          "scattermapbox": [
           {
            "marker": {
             "colorbar": {
              "outlinewidth": 0,
              "ticks": ""
             }
            },
            "type": "scattermapbox"
           }
          ],
          "scatterpolar": [
           {
            "marker": {
             "colorbar": {
              "outlinewidth": 0,
              "ticks": ""
             }
            },
            "type": "scatterpolar"
           }
          ],
          "scatterpolargl": [
           {
            "marker": {
             "colorbar": {
              "outlinewidth": 0,
              "ticks": ""
             }
            },
            "type": "scatterpolargl"
           }
          ],
          "scatterternary": [
           {
            "marker": {
             "colorbar": {
              "outlinewidth": 0,
              "ticks": ""
             }
            },
            "type": "scatterternary"
           }
          ],
          "surface": [
           {
            "colorbar": {
             "outlinewidth": 0,
             "ticks": ""
            },
            "colorscale": [
             [
              0,
              "#0d0887"
             ],
             [
              0.1111111111111111,
              "#46039f"
             ],
             [
              0.2222222222222222,
              "#7201a8"
             ],
             [
              0.3333333333333333,
              "#9c179e"
             ],
             [
              0.4444444444444444,
              "#bd3786"
             ],
             [
              0.5555555555555556,
              "#d8576b"
             ],
             [
              0.6666666666666666,
              "#ed7953"
             ],
             [
              0.7777777777777778,
              "#fb9f3a"
             ],
             [
              0.8888888888888888,
              "#fdca26"
             ],
             [
              1,
              "#f0f921"
             ]
            ],
            "type": "surface"
           }
          ],
          "table": [
           {
            "cells": {
             "fill": {
              "color": "#EBF0F8"
             },
             "line": {
              "color": "white"
             }
            },
            "header": {
             "fill": {
              "color": "#C8D4E3"
             },
             "line": {
              "color": "white"
             }
            },
            "type": "table"
           }
          ]
         },
         "layout": {
          "annotationdefaults": {
           "arrowcolor": "#2a3f5f",
           "arrowhead": 0,
           "arrowwidth": 1
          },
          "autotypenumbers": "strict",
          "coloraxis": {
           "colorbar": {
            "outlinewidth": 0,
            "ticks": ""
           }
          },
          "colorscale": {
           "diverging": [
            [
             0,
             "#8e0152"
            ],
            [
             0.1,
             "#c51b7d"
            ],
            [
             0.2,
             "#de77ae"
            ],
            [
             0.3,
             "#f1b6da"
            ],
            [
             0.4,
             "#fde0ef"
            ],
            [
             0.5,
             "#f7f7f7"
            ],
            [
             0.6,
             "#e6f5d0"
            ],
            [
             0.7,
             "#b8e186"
            ],
            [
             0.8,
             "#7fbc41"
            ],
            [
             0.9,
             "#4d9221"
            ],
            [
             1,
             "#276419"
            ]
           ],
           "sequential": [
            [
             0,
             "#0d0887"
            ],
            [
             0.1111111111111111,
             "#46039f"
            ],
            [
             0.2222222222222222,
             "#7201a8"
            ],
            [
             0.3333333333333333,
             "#9c179e"
            ],
            [
             0.4444444444444444,
             "#bd3786"
            ],
            [
             0.5555555555555556,
             "#d8576b"
            ],
            [
             0.6666666666666666,
             "#ed7953"
            ],
            [
             0.7777777777777778,
             "#fb9f3a"
            ],
            [
             0.8888888888888888,
             "#fdca26"
            ],
            [
             1,
             "#f0f921"
            ]
           ],
           "sequentialminus": [
            [
             0,
             "#0d0887"
            ],
            [
             0.1111111111111111,
             "#46039f"
            ],
            [
             0.2222222222222222,
             "#7201a8"
            ],
            [
             0.3333333333333333,
             "#9c179e"
            ],
            [
             0.4444444444444444,
             "#bd3786"
            ],
            [
             0.5555555555555556,
             "#d8576b"
            ],
            [
             0.6666666666666666,
             "#ed7953"
            ],
            [
             0.7777777777777778,
             "#fb9f3a"
            ],
            [
             0.8888888888888888,
             "#fdca26"
            ],
            [
             1,
             "#f0f921"
            ]
           ]
          },
          "colorway": [
           "#636efa",
           "#EF553B",
           "#00cc96",
           "#ab63fa",
           "#FFA15A",
           "#19d3f3",
           "#FF6692",
           "#B6E880",
           "#FF97FF",
           "#FECB52"
          ],
          "font": {
           "color": "#2a3f5f"
          },
          "geo": {
           "bgcolor": "white",
           "lakecolor": "white",
           "landcolor": "#E5ECF6",
           "showlakes": true,
           "showland": true,
           "subunitcolor": "white"
          },
          "hoverlabel": {
           "align": "left"
          },
          "hovermode": "closest",
          "mapbox": {
           "style": "light"
          },
          "paper_bgcolor": "white",
          "plot_bgcolor": "#E5ECF6",
          "polar": {
           "angularaxis": {
            "gridcolor": "white",
            "linecolor": "white",
            "ticks": ""
           },
           "bgcolor": "#E5ECF6",
           "radialaxis": {
            "gridcolor": "white",
            "linecolor": "white",
            "ticks": ""
           }
          },
          "scene": {
           "xaxis": {
            "backgroundcolor": "#E5ECF6",
            "gridcolor": "white",
            "gridwidth": 2,
            "linecolor": "white",
            "showbackground": true,
            "ticks": "",
            "zerolinecolor": "white"
           },
           "yaxis": {
            "backgroundcolor": "#E5ECF6",
            "gridcolor": "white",
            "gridwidth": 2,
            "linecolor": "white",
            "showbackground": true,
            "ticks": "",
            "zerolinecolor": "white"
           },
           "zaxis": {
            "backgroundcolor": "#E5ECF6",
            "gridcolor": "white",
            "gridwidth": 2,
            "linecolor": "white",
            "showbackground": true,
            "ticks": "",
            "zerolinecolor": "white"
           }
          },
          "shapedefaults": {
           "line": {
            "color": "#2a3f5f"
           }
          },
          "ternary": {
           "aaxis": {
            "gridcolor": "white",
            "linecolor": "white",
            "ticks": ""
           },
           "baxis": {
            "gridcolor": "white",
            "linecolor": "white",
            "ticks": ""
           },
           "bgcolor": "#E5ECF6",
           "caxis": {
            "gridcolor": "white",
            "linecolor": "white",
            "ticks": ""
           }
          },
          "title": {
           "x": 0.05
          },
          "xaxis": {
           "automargin": true,
           "gridcolor": "white",
           "linecolor": "white",
           "ticks": "",
           "title": {
            "standoff": 15
           },
           "zerolinecolor": "white",
           "zerolinewidth": 2
          },
          "yaxis": {
           "automargin": true,
           "gridcolor": "white",
           "linecolor": "white",
           "ticks": "",
           "title": {
            "standoff": 15
           },
           "zerolinecolor": "white",
           "zerolinewidth": 2
          }
         }
        },
        "width": 600
       }
      }
     },
     "metadata": {},
     "output_type": "display_data"
    }
   ],
   "source": [
    "from tomobase.napari.graphs import acquisition_xy_plot, acquisition_radial_plot\n",
    "from tomobase.data import Sinogram\n",
    "from scripts import helper\n",
    "\n",
    "# Load the data\n",
    "path = helper.get_filename('TiltGRS.mat')\n",
    "print(f'Loading {path}')\n",
    "data = Sinogram.from_file(path)\n",
    "acquisition_radial_plot(data)"
   ]
  },
  {
   "cell_type": "code",
   "execution_count": null,
   "metadata": {},
   "outputs": [],
   "source": []
  }
 ],
 "metadata": {
  "kernelspec": {
   "display_name": "tomo-dipster",
   "language": "python",
   "name": "python3"
  },
  "language_info": {
   "codemirror_mode": {
    "name": "ipython",
    "version": 3
   },
   "file_extension": ".py",
   "mimetype": "text/x-python",
   "name": "python",
   "nbconvert_exporter": "python",
   "pygments_lexer": "ipython3",
   "version": "3.11.5"
  }
 },
 "nbformat": 4,
 "nbformat_minor": 2
}
