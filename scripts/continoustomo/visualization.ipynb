{
 "cells": [
  {
   "cell_type": "code",
   "execution_count": null,
   "metadata": {},
   "outputs": [],
   "source": [
    "from tomobase.napari.graphs import acquisition_xy_plot, acquisition_radial_plot\n",
    "from tomobase.tiltschemes import GRS, Binary, Incremental\n",
    "from tomobase.data import Sinogram\n",
    "from scripts import helper\n",
    "import numpy as np\n",
    "import plotly.io as pio\n",
    "\n",
    "grs = GRS(64, -64, 0)\n",
    "binary = Binary(64, -64, 8)\n",
    "\n",
    "\n",
    "incremental1 = Incremental(-64, 64, 2)\n",
    "incremental2 = Incremental(64, -64, -2)\n",
    "incremental3 = Incremental(-64, 64, 2)\n",
    "incremental4 = Incremental(64, -64, -2)\n",
    "\n",
    "angles1 = np.array([incremental1.get_angle() for i in range(64)])\n",
    "angles2 = np.array([incremental2.get_angle() for i in range(64)])\n",
    "angles3 = np.array([incremental3.get_angle() for i in range(64)])\n",
    "angles4 = np.array([incremental4.get_angle() for i in range(64)])\n",
    "angles_inc = np.concatenate([angles1, angles2, angles3, angles4])\n",
    "angles_bin = np.array([binary.get_angle() for i in range(256)])\n",
    "angles_grs = np.array([binary.get_angle() for i in range(256)])\n",
    "\n",
    "fig = acquisition_xy_plot(angles_bin, angles_bin, angles_grs)\n",
    "#fig = acquisition_radial_plot(angles=angles_bin, start = 0, frame = 64)\n",
    "pio.write_image(fig, helper.get_filename('bin_xy_full.png'))\n"
   ]
  },
  {
   "cell_type": "code",
   "execution_count": null,
   "metadata": {},
   "outputs": [],
   "source": []
  }
 ],
 "metadata": {
  "kernelspec": {
   "display_name": "tomo-dipster",
   "language": "python",
   "name": "python3"
  },
  "language_info": {
   "codemirror_mode": {
    "name": "ipython",
    "version": 3
   },
   "file_extension": ".py",
   "mimetype": "text/x-python",
   "name": "python",
   "nbconvert_exporter": "python",
   "pygments_lexer": "ipython3",
   "version": "3.11.5"
  }
 },
 "nbformat": 4,
 "nbformat_minor": 2
}
