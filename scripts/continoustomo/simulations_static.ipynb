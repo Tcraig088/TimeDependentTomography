{
 "cells": [
  {
   "cell_type": "markdown",
   "metadata": {},
   "source": [
    "## Publication: Continous Tomography Implementation\n",
    " This markdown is the implementation of the tomobase library for usage of comparing 3 sets of data \n",
    " 1. Binomial Decomposition\n",
    " 2. GRS \n",
    " 3. Incremental\n",
    " "
   ]
  },
  {
   "cell_type": "markdown",
   "metadata": {},
   "source": [
    "### Imports\n",
    " This section is used to import useful code for storing data"
   ]
  },
  {
   "cell_type": "code",
   "execution_count": null,
   "metadata": {},
   "outputs": [],
   "source": [
    "from tomobase.log import logger\n",
    "import numpy as np\n",
    "import napari\n",
    "from tomobase import data, phantoms, tiltschemes, processes\n",
    "from tomobase.data import Sinogram, Volume\n",
    "import pandas as pd\n",
    "import os \n",
    "\n",
    "\n",
    "def get_directory():\n",
    "    path = os.getcwd()\n",
    "    path = os.path.join(path, '..\\..\\data')\n",
    "    return path\n",
    "\n",
    "def get_filename(*args):\n",
    "    path = get_directory()\n",
    "    path = os.path.join(get_directory(), *args)\n",
    "    return path\n",
    "\n",
    "numbers = [np.linspace(1, 65, 65),\n",
    "           np.linspace(1, 33, 33),\n",
    "           np.linspace(1, 129, 129)]\n",
    "\n",
    "print(get_directory())           \n",
    "vol = phantoms.nanocage()"
   ]
  },
  {
   "cell_type": "markdown",
   "metadata": {},
   "source": [
    "### Generate TiltSeries"
   ]
  },
  {
   "cell_type": "code",
   "execution_count": null,
   "metadata": {},
   "outputs": [],
   "source": [
    "viewer = napari.Viewer()\n",
    "for i in range(len(numbers)):\n",
    "    indices = numbers[i]\n",
    "    scheme = tiltschemes.GRS(64.0, -64.0, 0)\n",
    "    angles = np.array([scheme.get_angle() for j in indices])\n",
    "    ts = processes.project(vol, angles)\n",
    "    ts = processes.alignments.pad_sinogram(ts, 1024, 1024, inplace=False)\n",
    "    ts.to_file(get_filename('tiltseries', 'grs_%d.mrc' % len(indices)))\n",
    "    value = ts._to_napari_layer(True)\n",
    "    viewer._add_layer_from_data(*value)\n",
    "    \n",
    "    scheme = tiltschemes.Binary(64.0, -64.0, 8)\n",
    "    angles = np.array([scheme.get_angle() for j in indices])\n",
    "    ts = processes.project(vol, angles)\n",
    "    ts = processes.alignments.pad_sinogram(ts, 1024, 1024, inplace=False)\n",
    "    ts.to_file(get_filename('tiltseries', 'bin_%d.mrc' % len(indices)))\n",
    "\n",
    "    \n",
    "    scheme = tiltschemes.Incremental(64.0, -64.0, 128/len(indices)-1)\n",
    "    angles = np.array([scheme.get_angle() for j in indices])\n",
    "    ts = processes.project(vol, angles)\n",
    "    ts = processes.alignments.pad_sinogram(ts, 1024, 1024, inplace=False)\n",
    "    ts.to_file(get_filename('tiltseries', 'inc_%d.mrc' % len(indices)))\n",
    "\n",
    "    \n",
    "    \n",
    "\n",
    "\n"
   ]
  },
  {
   "cell_type": "code",
   "execution_count": null,
   "metadata": {},
   "outputs": [],
   "source": [
    "# for all files in the directory\n",
    "viewer = napari.Viewer()\n",
    "for filename in os.listdir(get_filename('tiltseries')):\n",
    "    ts = Sinogram.from_file(get_filename('tiltseries', filename))\n",
    "    ts = processes.alignments.translational_misalignment(ts, 0.2, 0.2)\n",
    "    \n",
    "value = ts._to_napari_layer(True)\n",
    "viewer.add_layer(*value)\n",
    "\n",
    "    "
   ]
  },
  {
   "cell_type": "markdown",
   "metadata": {},
   "source": [
    "### Get Tilt Series \n"
   ]
  },
  {
   "cell_type": "code",
   "execution_count": null,
   "metadata": {},
   "outputs": [],
   "source": [
    "# for each tilt series pad till 1024 by 1024\n",
    "import numpy as np\n",
    "\n",
    "print(\"Original shapes:\")\n",
    "print(\"ts_grs.data.shape:\", ts_grs.data.shape)\n",
    "print(\"ts_bin.data.shape:\", ts_bin.data.shape)\n",
    "\n",
    "# Pad the first two dimensions to 1024 while keeping the third dimension unchanged\n",
    "ts_grs.data = np.pad(ts_grs.data, ((0, 1024 - ts_grs.data.shape[0]), (0, 1024 - ts_grs.data.shape[1]), (0, 0)), 'constant')\n",
    "ts_grs.data = np.pad(ts_bin.data, ((0, 1024 - ts_bin.data.shape[0]), (0, 1024 - ts_bin.data.shape[1]), (0, 0)), 'constant')\n",
    "\n",
    "\n",
    "ts_grs_misaligned, offset_grs =  processes.alignments.translational_misalignment(ts_grs, 0.1, inplace=False, extend_return=True)\n",
    "ts_binary_misaligned, offset_binary = processes.alignments.translational_misalignment(ts_bin, 0.1, inplace =False, extend_return=True)"
   ]
  },
  {
   "cell_type": "code",
   "execution_count": 4,
   "metadata": {},
   "outputs": [],
   "source": [
    "\n",
    "ts_grs_aligned = processes.alignments.align_sinogram_xcorr(ts_grs_misaligned, inplace=False, extend_return=True)\n",
    "ts_bin_aligned = processes.alignments.align_sinogram_xcorr(ts_binary_misaligned, inplace=False, extend_return = True)"
   ]
  },
  {
   "cell_type": "code",
   "execution_count": null,
   "metadata": {},
   "outputs": [],
   "source": [
    "print(offset_binary)\n",
    "print(ts_bin_aligned[1])"
   ]
  },
  {
   "cell_type": "code",
   "execution_count": null,
   "metadata": {},
   "outputs": [],
   "source": []
  },
  {
   "cell_type": "code",
   "execution_count": null,
   "metadata": {},
   "outputs": [],
   "source": []
  },
  {
   "cell_type": "code",
   "execution_count": null,
   "metadata": {},
   "outputs": [],
   "source": [
    "import numpy as np\n",
    "from skimage.metrics import peak_signal_noise_ratio as psnr\n",
    "from skimage.metrics import structural_similarity as ssim\n",
    "from skimage.filters import threshold_otsu\n",
    "\n",
    "name  = 'compare-nomask'\n",
    "volume = volume_increment.data\n",
    "vol = volume_grs\n",
    "\n",
    "#threshold_value = threshold_otsu(volume.flatten())\n",
    "#volume_masked = np.where(volume.data > threshold_value, volume, 0)\n",
    "volume_masked = volume\n",
    "\n",
    "psnr_value = psnr(vol.data, volume_masked, data_range =1.0)\n",
    "ssim_value, _ = ssim(vol.data, volume_masked, full=True, multichannel=True, data_range =1.0)\n",
    "if os.path.exists(os.path.join(save_path, 'psnr_ssims.csv')):\n",
    "    df = pd.read_csv(os.path.join(save_path,'psnr_ssims.csv'))\n",
    "else:\n",
    "    df = pd.DataFrame()\n",
    "data = {\n",
    "    'Name': name,\n",
    "    'PSNR': psnr_value,\n",
    "    'SSIM': ssim_value\n",
    "}\n",
    "print('PSNR: {}'.format(psnr_value))\n",
    "print('SSIM: {}'.format(ssim_value))\n",
    "\n",
    "df2 = pd.DataFrame(data, index=[0])\n",
    "df = pd.concat([df, df2])\n",
    "df.to_csv(os.path.join(save_path, 'psnr_ssims.csv'), index=False)\n",
    "\n"
   ]
  },
  {
   "cell_type": "code",
   "execution_count": null,
   "metadata": {},
   "outputs": [],
   "source": []
  },
  {
   "cell_type": "markdown",
   "metadata": {},
   "source": []
  },
  {
   "cell_type": "markdown",
   "metadata": {},
   "source": []
  }
 ],
 "metadata": {
  "kernelspec": {
   "display_name": "tomo-dipster",
   "language": "python",
   "name": "python3"
  },
  "language_info": {
   "codemirror_mode": {
    "name": "ipython",
    "version": 3
   },
   "file_extension": ".py",
   "mimetype": "text/x-python",
   "name": "python",
   "nbconvert_exporter": "python",
   "pygments_lexer": "ipython3",
   "version": "3.11.5"
  }
 },
 "nbformat": 4,
 "nbformat_minor": 2
}
