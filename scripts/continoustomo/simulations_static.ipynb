{
 "cells": [
  {
   "cell_type": "markdown",
   "metadata": {},
   "source": [
    "## Publication: Continous Tomography Implementation\n"
   ]
  },
  {
   "cell_type": "code",
   "execution_count": null,
   "metadata": {},
   "outputs": [],
   "source": [
    "from tomobase.log import logger\n",
    "import numpy as np\n",
    "\n",
    "from tomoacquire import tiltschemes\n",
    "from tomobase import data, phantoms\n",
    "import pandas as pd\n",
    "import os \n",
    "\n",
    "\n",
    "def get_save_path(filename):\n",
    "    save_path = '../data'\n",
    "    return os.path.join(save_path, filename)\n",
    "\n",
    "indices = np.linspace(1, 71, 71)\n",
    "logger.info(indices)\n",
    "\n",
    "vol = phantoms.nanocage()\n",
    "\n",
    "tilt_angles_grs = tiltschemes.GRS(70.0, -70.0).get_angle_array(indices-1)\n",
    "tilt_angles_increment = tiltschemes.Incremental(-70.0, 70.0, 2).get_angle_array(indices-1)\n",
    "tilt_angles_binary = tiltschemes.Binary(70.0, -70.0, 8).get_angle_array(indices-1)\n",
    "tilt_angles_binary2 = tiltschemes.Binary(70.0, -70.0, 8).get_angle_array(indices-1, conventional = True)\n",
    "\n",
    "logger.info('GRS: {}'.format(tilt_angles_grs))\n",
    "logger.info('Increment: {}'.format(tilt_angles_increment))\n",
    "logger.info('Binary: {}'.format(tilt_angles_binary))\n",
    "logger.info('Binary2: {}'.format(tilt_angles_binary2))\n",
    "data = {\n",
    "    'Index': indices,\n",
    "    'GRS': tilt_angles_grs,\n",
    "    'Incremental': tilt_angles_increment,\n",
    "    'Binary': tilt_angles_binary,\n",
    "    'Binary-Conventional': tilt_angles_binary2\n",
    "}\n",
    "df = pd.DataFrame(data)"
   ]
  },
  {
   "cell_type": "markdown",
   "metadata": {},
   "source": [
    "### Get Tilt Series \n"
   ]
  },
  {
   "cell_type": "code",
   "execution_count": 19,
   "metadata": {},
   "outputs": [],
   "source": [
    "\n",
    "from tomobase import processes\n",
    "from tomobase.data import Sinogram, Volume\n",
    "import os\n",
    "\n",
    "ts_grs = processes.project(vol, tilt_angles_grs)\n",
    "ts_increment = processes.project(vol, tilt_angles_increment)\n",
    "\n",
    "ts_grs.to_file(os.path.join(save_path, 'TiltGRS.mat'))\n",
    "ts = Sinogram.from_file(os.path.join(save_path, 'TiltGRS.mat'))\n",
    "\n",
    "ts_grs.to_file(os.path.join(save_path,'TiltIncrement.mat'))\n",
    "ts = Sinogram.from_file(os.path.join(save_path, 'TiltIncrement.mat'))\n",
    "\n",
    "volume_grs = processes.reconstruct(ts_grs,'sirt')\n",
    "volume_increment = processes.reconstruct(ts, 'sirt')\n",
    "\n",
    "volume_grs.to_file(os.path.join(save_path,'ReconGRS.rec'))\n",
    "volume_increment.to_file(os.path.join(save_path,'ReconIncrement.rec'))\n"
   ]
  },
  {
   "cell_type": "code",
   "execution_count": null,
   "metadata": {},
   "outputs": [],
   "source": [
    "import numpy as np\n",
    "from skimage.metrics import peak_signal_noise_ratio as psnr\n",
    "from skimage.metrics import structural_similarity as ssim\n",
    "from skimage.filters import threshold_otsu\n",
    "\n",
    "name  = 'compare-nomask'\n",
    "volume = volume_increment.data\n",
    "vol = volume_grs\n",
    "\n",
    "#threshold_value = threshold_otsu(volume.flatten())\n",
    "#volume_masked = np.where(volume.data > threshold_value, volume, 0)\n",
    "volume_masked = volume\n",
    "\n",
    "psnr_value = psnr(vol.data, volume_masked, data_range =1.0)\n",
    "ssim_value, _ = ssim(vol.data, volume_masked, full=True, multichannel=True, data_range =1.0)\n",
    "if os.path.exists(os.path.join(save_path, 'psnr_ssims.csv')):\n",
    "    df = pd.read_csv(os.path.join(save_path,'psnr_ssims.csv'))\n",
    "else:\n",
    "    df = pd.DataFrame()\n",
    "data = {\n",
    "    'Name': name,\n",
    "    'PSNR': psnr_value,\n",
    "    'SSIM': ssim_value\n",
    "}\n",
    "print('PSNR: {}'.format(psnr_value))\n",
    "print('SSIM: {}'.format(ssim_value))\n",
    "\n",
    "df2 = pd.DataFrame(data, index=[0])\n",
    "df = pd.concat([df, df2])\n",
    "df.to_csv(os.path.join(save_path, 'psnr_ssims.csv'), index=False)\n",
    "\n"
   ]
  },
  {
   "cell_type": "code",
   "execution_count": null,
   "metadata": {},
   "outputs": [],
   "source": []
  },
  {
   "cell_type": "markdown",
   "metadata": {},
   "source": []
  },
  {
   "cell_type": "markdown",
   "metadata": {},
   "source": []
  }
 ],
 "metadata": {
  "kernelspec": {
   "display_name": "tomo-dipster",
   "language": "python",
   "name": "python3"
  },
  "language_info": {
   "codemirror_mode": {
    "name": "ipython",
    "version": 3
   },
   "file_extension": ".py",
   "mimetype": "text/x-python",
   "name": "python",
   "nbconvert_exporter": "python",
   "pygments_lexer": "ipython3",
   "version": "3.11.5"
  }
 },
 "nbformat": 4,
 "nbformat_minor": 2
}
