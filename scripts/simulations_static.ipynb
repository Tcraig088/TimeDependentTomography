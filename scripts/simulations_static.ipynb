{
 "cells": [
  {
   "cell_type": "code",
   "execution_count": 3,
   "metadata": {},
   "outputs": [
    {
     "name": "stderr",
     "output_type": "stream",
     "text": [
      "2024-10-03 20:22:33,325 - INFO - [ 1.  2.  3.  4.  5.  6.  7.  8.  9. 10. 11. 12. 13. 14. 15. 16. 17. 18.\n",
      " 19. 20. 21. 22. 23. 24. 25. 26. 27. 28. 29. 30. 31. 32. 33. 34. 35. 36.\n",
      " 37. 38. 39. 40. 41. 42. 43. 44. 45. 46. 47. 48. 49. 50. 51. 52. 53. 54.\n",
      " 55. 56. 57. 58. 59. 60. 61. 62. 63. 64. 65. 66. 67. 68. 69. 70. 71.]\n",
      "INFO:tomobase_logger:[ 1.  2.  3.  4.  5.  6.  7.  8.  9. 10. 11. 12. 13. 14. 15. 16. 17. 18.\n",
      " 19. 20. 21. 22. 23. 24. 25. 26. 27. 28. 29. 30. 31. 32. 33. 34. 35. 36.\n",
      " 37. 38. 39. 40. 41. 42. 43. 44. 45. 46. 47. 48. 49. 50. 51. 52. 53. 54.\n",
      " 55. 56. 57. 58. 59. 60. 61. 62. 63. 64. 65. 66. 67. 68. 69. 70. 71.]\n"
     ]
    }
   ],
   "source": [
    "from tomobase.log import logger\n",
    "import numpy as np\n",
    "\n",
    "from tomoacquire import tiltschemes\n",
    "from tomobase import data, phantoms\n",
    "\n",
    "indices = np.linspace(1, 71, 71)\n",
    "logger.info(indices)\n",
    "vol = phantoms.nanocage()\n",
    "\n",
    "tilt_angles_grs = tiltschemes.GRS(70.0, -70.0, 1).get_angle_array(indices)\n",
    "tilt_angles_increment = tiltschemes.GRS(-70.0, 70.0, 0).get_angle_array(indices-1)\n",
    "tilt_angles_binary = tiltschemes.Binary(70.0, -70.0, 1).get_angle_array(indices-1)\n",
    "\n"
   ]
  }
 ],
 "metadata": {
  "kernelspec": {
   "display_name": "tomo-dipster",
   "language": "python",
   "name": "python3"
  },
  "language_info": {
   "codemirror_mode": {
    "name": "ipython",
    "version": 3
   },
   "file_extension": ".py",
   "mimetype": "text/x-python",
   "name": "python",
   "nbconvert_exporter": "python",
   "pygments_lexer": "ipython3",
   "version": "3.11.5"
  }
 },
 "nbformat": 4,
 "nbformat_minor": 2
}
